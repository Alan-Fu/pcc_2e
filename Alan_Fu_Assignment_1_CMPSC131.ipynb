{
  "cells": [
    {
      "cell_type": "markdown",
      "metadata": {
        "id": "view-in-github",
        "colab_type": "text"
      },
      "source": [
        "<a href=\"https://colab.research.google.com/github/Alan-Fu/pcc_2e/blob/master/Alan_Fu_Assignment_1_CMPSC131.ipynb\" target=\"_parent\"><img src=\"https://colab.research.google.com/assets/colab-badge.svg\" alt=\"Open In Colab\"/></a>"
      ]
    },
    {
      "cell_type": "markdown",
      "metadata": {
        "id": "kfaWMoGMzIlh"
      },
      "source": [
        "# CMPSC - 131 Introduction to CompSci\n",
        "For the first assignment I am asking that you read through the first 2 chapters of the book **Python Crash Course** by Matthes. This is easily found online as a free pdf, if proper googling is used. \n",
        "\n",
        "We will be using several different methods of executing Python code. The two main camps will be through a terminal and via a Jupyter notebook. \n",
        "\n",
        "The Anaconda package allows you to do both via a local install on your machine, but you can perform all of the work for this course on different websites. For the notebooks you can use **Google Colab** or myBinder (among others) and for the terminal emulation we can use **Repl.it**. We are going to use **colab.research.google.com** and **repl.it** for in class demos, so I suggest goign to the sites and seeing how they work. You should be able to link both of the systems to your PSU accounts, do that. \n",
        "\n",
        "I have yet to decide which to use throughout the course, but they are all basically the same, so it should make little to no difference. \n"
      ]
    },
    {
      "cell_type": "markdown",
      "metadata": {
        "id": "S_BASSk1zIll"
      },
      "source": [
        "CODE For the Book can be found at:\n",
        "\n",
        "https://github.com/ehmatthes/pcc_2e\n",
        "\n",
        "For instance, a problem below will use the code found at https://github.com/ehmatthes/pcc_2e/blob/master/chapter_01/hello_world.py\n",
        "\n",
        "I will also include it in the cell below: "
      ]
    },
    {
      "cell_type": "code",
      "execution_count": null,
      "metadata": {
        "colab": {
          "base_uri": "https://localhost:8080/"
        },
        "id": "F8qYWCyuzIlm",
        "outputId": "356741ac-0b17-4634-8bb0-95220f7e3ea3"
      },
      "outputs": [
        {
          "output_type": "stream",
          "name": "stdout",
          "text": [
            "Hello Python world!\n"
          ]
        }
      ],
      "source": [
        "print(\"Hello Python world!\")"
      ]
    },
    {
      "cell_type": "markdown",
      "metadata": {
        "id": "RU-blHZzzIln"
      },
      "source": [
        "## Problem 1\n",
        "Hello World Typos: \n",
        "\n",
        "    Open the hello_world.py file you just created (or place into the next cell and run). Make a typo somewhere in the line and run the program again. Can you make a typo that generates an error? Can you make sense of the error message? Can you make a typo that doesn’t generate an error? hy do you think it didn’t make an error?"
      ]
    },
    {
      "cell_type": "code",
      "source": [
        "message=\"Hello Python World\"\n",
        "print(message)"
      ],
      "metadata": {
        "colab": {
          "base_uri": "https://localhost:8080/"
        },
        "id": "apyBNMQ5JQKo",
        "outputId": "201c90bc-200a-4cb8-88dc-b7a61b7d7bb3"
      },
      "execution_count": null,
      "outputs": [
        {
          "output_type": "stream",
          "name": "stdout",
          "text": [
            "Hello Python World\n"
          ]
        }
      ]
    },
    {
      "cell_type": "code",
      "source": [
        "print(mesage)"
      ],
      "metadata": {
        "id": "hEbvb4waLtZv",
        "colab": {
          "base_uri": "https://localhost:8080/",
          "height": 166
        },
        "outputId": "baa1c5bf-de03-46e8-a642-bc03930809cc"
      },
      "execution_count": null,
      "outputs": [
        {
          "output_type": "error",
          "ename": "NameError",
          "evalue": "ignored",
          "traceback": [
            "\u001b[0;31m---------------------------------------------------------------------------\u001b[0m",
            "\u001b[0;31mNameError\u001b[0m                                 Traceback (most recent call last)",
            "\u001b[0;32m<ipython-input-4-1dd115d53185>\u001b[0m in \u001b[0;36m<module>\u001b[0;34m()\u001b[0m\n\u001b[0;32m----> 1\u001b[0;31m \u001b[0mprint\u001b[0m\u001b[0;34m(\u001b[0m\u001b[0mmesage\u001b[0m\u001b[0;34m)\u001b[0m\u001b[0;34m\u001b[0m\u001b[0;34m\u001b[0m\u001b[0m\n\u001b[0m",
            "\u001b[0;31mNameError\u001b[0m: name 'mesage' is not defined"
          ]
        }
      ]
    },
    {
      "cell_type": "code",
      "source": [
        "#Yes, the error message makes sense because I misspelled the variable name \"mesage\" instead of \"message\". "
      ],
      "metadata": {
        "id": "WVZgad6QPOBm"
      },
      "execution_count": null,
      "outputs": []
    },
    {
      "cell_type": "code",
      "source": [
        "mesage=\"Hello Python World\"\n",
        "print(mesage)"
      ],
      "metadata": {
        "colab": {
          "base_uri": "https://localhost:8080/"
        },
        "id": "XzBNAha4PuMM",
        "outputId": "4449684d-ebfa-42d2-f297-bb7c02da787e"
      },
      "execution_count": null,
      "outputs": [
        {
          "output_type": "stream",
          "name": "stdout",
          "text": [
            "Hello Python World\n"
          ]
        }
      ]
    },
    {
      "cell_type": "code",
      "source": [
        "#The variable name is consistent with the mispelling, \"mesage\". "
      ],
      "metadata": {
        "id": "sbksCeKqP3o-"
      },
      "execution_count": null,
      "outputs": []
    },
    {
      "cell_type": "markdown",
      "metadata": {
        "id": "n_mmnbeAzIlo"
      },
      "source": [
        "## Problem 2\n",
        "Infinite Skills: \n",
        "    \n",
        "        If you had infinite programming skills, what would you build?\n",
        "    You’re about to learn how to program. If you have an end goal in mind, you’ll have an\n",
        "    immediate use for your new skills; now is a great time to draft descriptions of what you\n",
        "    want to create. It’s a good habit to keep an “ideas” notebook that you can refer to\n",
        "    whenever you want to start a new project. Take a few minutes now to describe three\n",
        "    programs you want to create."
      ]
    },
    {
      "cell_type": "code",
      "execution_count": null,
      "metadata": {
        "id": "dL0WY2r5zIlp"
      },
      "outputs": [],
      "source": [
        "\n",
        "#The first program that I want to create is a summation function which can add multiple numbers together. \n",
        "\n",
        "#The second program that I want to create is a percent function, which can calculate the percentage of missing values in each column in a dataset.  \n",
        "\n",
        "#The third program that I want to create is a function that converts the temperature from Fahrenheit to Celsius and vice versa. \n"
      ]
    },
    {
      "cell_type": "markdown",
      "metadata": {
        "id": "FNTdy4xFzIlq"
      },
      "source": [
        "## Problem 3\n",
        "\n",
        "How are you running your code? Did you install Anaconda, Repl.it, Colab? Do you have past experience with any of these systems and have a preference? \n"
      ]
    },
    {
      "cell_type": "code",
      "execution_count": null,
      "metadata": {
        "id": "U0vCvS2kzIlq"
      },
      "outputs": [],
      "source": [
        "#I am running my code using Python IDLE Version 3.10. I installed Anaconda, and I accessed Relp.it and Colab. I do not have past experience with any of these systems.\n"
      ]
    },
    {
      "cell_type": "markdown",
      "metadata": {
        "id": "QwO3z6fxzIlr"
      },
      "source": [
        "## Problem 4 \n",
        "\n",
        "Write a separate program to accomplish each of these exercises. Save each program with\n",
        "a filename that follows standard Python conventions, using lowercase letters and\n",
        "underscores, such as simple_message.py and simple_messages.py. (You will need to use repl.it or the local terminal to test that your scripts work).\n",
        "\n",
        "    part1: Simple Message: Assign a message to a variable, and then print that message.\n",
        "    \n",
        "    part2: Simple Messages: Assign a message to a variable, and print that message. Then change the value of the variable to a new message, and print the new message."
      ]
    },
    {
      "cell_type": "code",
      "execution_count": null,
      "metadata": {
        "id": "fxZFLQYUzIlr",
        "colab": {
          "base_uri": "https://localhost:8080/"
        },
        "outputId": "f29aac42-270b-4dfe-908d-e44e7e5642e0"
      },
      "outputs": [
        {
          "output_type": "stream",
          "name": "stdout",
          "text": [
            "PlayStation Four vs Xbox One\n"
          ]
        }
      ],
      "source": [
        "#Part 1, I used replit to write program and saved a file named simple_message.py\n",
        "console_wars=\"PlayStation Four vs Xbox One\"\n",
        "print(console_wars)"
      ]
    },
    {
      "cell_type": "code",
      "source": [
        "#Part2, I used replit to write program and saved a file named simple_messages.py\n",
        "console_wars2=\"PlayStation Five vs Xbox Series X\"\n",
        "print(console_wars2)\n",
        "\n",
        "console_wars2=\"Sony vs Microsoft vs Nintendo\" #Change the value of this variable\n",
        "print(console_wars2)"
      ],
      "metadata": {
        "colab": {
          "base_uri": "https://localhost:8080/"
        },
        "id": "VyTUoOAnK8zL",
        "outputId": "ffd8c2cc-d194-461d-d1df-79c6f2c3e894"
      },
      "execution_count": null,
      "outputs": [
        {
          "output_type": "stream",
          "name": "stdout",
          "text": [
            "PlayStation Five vs Xbox Series X\n",
            "Sony vs Microsoft vs Nintendo\n"
          ]
        }
      ]
    },
    {
      "cell_type": "markdown",
      "metadata": {
        "id": "nvjd3ptizIlr"
      },
      "source": [
        "## Problem 5\n",
        "    Find a quote from a famous person you admire. Print the quote and the name of its author. Your output should look something like the following, including the quotation marks:\n",
        "\n",
        "Albert Einstein once said, “A person who never made a mistake\n",
        "never tried anything new.”\n",
        "\n",
        "    Repeat the above, but this time, represent the famous person’s name using a variable called ***famous_person***. Then compose your message and represent it with a new variable called ***message***. Print your message."
      ]
    },
    {
      "cell_type": "code",
      "execution_count": null,
      "metadata": {
        "id": "9n0MMooYzIls",
        "colab": {
          "base_uri": "https://localhost:8080/"
        },
        "outputId": "750cd74b-baf2-4818-b607-806dbc698055"
      },
      "outputs": [
        {
          "output_type": "stream",
          "name": "stdout",
          "text": [
            "David Villa once said, \"You were born to multiply the gifts and talents that are inside you.\"\n",
            "David Villa once said, \"You were born to multiply the gifts and talents that are inside you.\"\n"
          ]
        }
      ],
      "source": [
        "print('David Villa once said, \"You were born to multiply the gifts and talents that are inside you.\"')\n",
        "\n",
        "famous_person=\"David Villa\"\n",
        "quote='once said, \"You were born to multiply the gifts and talents that are inside you.\"'\n",
        "message=f\"{famous_person} {quote}\"\n",
        "print(message)\n"
      ]
    },
    {
      "cell_type": "code",
      "source": [
        "bnvbnm,.l;]bc"
      ],
      "metadata": {
        "id": "G_CQbqmVxKQi"
      },
      "execution_count": null,
      "outputs": []
    },
    {
      "cell_type": "markdown",
      "metadata": {
        "id": "KLTIfjJWzIls"
      },
      "source": [
        "## Problem 6\n",
        "\n",
        "    Write addition, subtraction, multiplication, and division operations that each result in the number 8. Be sure to enclose your operations in print() calls to see the results. You should create four lines that look like this:\n",
        "\n",
        "```\n",
        "print(5+3)\n",
        "```\n",
        "\n",
        "Your output should simply be four lines with the number 8 appearing once on eachline.\n"
      ]
    },
    {
      "cell_type": "code",
      "execution_count": 34,
      "metadata": {
        "id": "HLqSGc9YzIlt",
        "colab": {
          "base_uri": "https://localhost:8080/"
        },
        "outputId": "c20ccb26-f5e2-4d36-8738-d28ece2305fe"
      },
      "outputs": [
        {
          "output_type": "stream",
          "name": "stdout",
          "text": [
            "8\n",
            "8\n",
            "8\n",
            "8\n"
          ]
        }
      ],
      "source": [
        "print(4+4)\n",
        "print(8*1)\n",
        "print(int(16/2))\n",
        "print(12-4)\n"
      ]
    }
  ],
  "metadata": {
    "kernelspec": {
      "display_name": "Python 3",
      "language": "python",
      "name": "python3"
    },
    "language_info": {
      "codemirror_mode": {
        "name": "ipython",
        "version": 3
      },
      "file_extension": ".py",
      "mimetype": "text/x-python",
      "name": "python",
      "nbconvert_exporter": "python",
      "pygments_lexer": "ipython3",
      "version": "3.7.6"
    },
    "colab": {
      "name": "Alan_Fu_Assignment_1_CMPSC131.ipynb",
      "provenance": [],
      "collapsed_sections": [],
      "include_colab_link": true
    }
  },
  "nbformat": 4,
  "nbformat_minor": 0
}