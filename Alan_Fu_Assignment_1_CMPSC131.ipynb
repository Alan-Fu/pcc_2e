{
  "cells": [
    {
      "cell_type": "markdown",
      "metadata": {
        "id": "view-in-github",
        "colab_type": "text"
      },
      "source": [
        "<a href=\"https://colab.research.google.com/github/Alan-Fu/pcc_2e/blob/master/Alan_Fu_Assignment_1_CMPSC131.ipynb\" target=\"_parent\"><img src=\"https://colab.research.google.com/assets/colab-badge.svg\" alt=\"Open In Colab\"/></a>"
      ]
    },
    {
      "cell_type": "markdown",
      "metadata": {
        "id": "kfaWMoGMzIlh"
      },
      "source": [
        "# CMPSC - 131 Introduction to CompSci\n",
        "For the first assignment I am asking that you read through the first 2 chapters of the book **Python Crash Course** by Matthes. This is easily found online as a free pdf, if proper googling is used. \n",
        "\n",
        "We will be using several different methods of executing Python code. The two main camps will be through a terminal and via a Jupyter notebook. \n",
        "\n",
        "The Anaconda package allows you to do both via a local install on your machine, but you can perform all of the work for this course on different websites. For the notebooks you can use **Google Colab** or myBinder (among others) and for the terminal emulation we can use **Repl.it**. We are going to use **colab.research.google.com** and **repl.it** for in class demos, so I suggest goign to the sites and seeing how they work. You should be able to link both of the systems to your PSU accounts, do that. \n",
        "\n",
        "I have yet to decide which to use throughout the course, but they are all basically the same, so it should make little to no difference. \n"
      ]
    },
    {
      "cell_type": "markdown",
      "metadata": {
        "id": "S_BASSk1zIll"
      },
      "source": [
        "CODE For the Book can be found at:\n",
        "\n",
        "https://github.com/ehmatthes/pcc_2e\n",
        "\n",
        "For instance, a problem below will use the code found at https://github.com/ehmatthes/pcc_2e/blob/master/chapter_01/hello_world.py\n",
        "\n",
        "I will also include it in the cell below: "
      ]
    },
    {
      "cell_type": "code",
      "execution_count": null,
      "metadata": {
        "colab": {
          "base_uri": "https://localhost:8080/"
        },
        "id": "F8qYWCyuzIlm",
        "outputId": "356741ac-0b17-4634-8bb0-95220f7e3ea3"
      },
      "outputs": [
        {
          "output_type": "stream",
          "name": "stdout",
          "text": [
            "Hello Python world!\n"
          ]
        }
      ],
      "source": [
        "print(\"Hello Python world!\")"
      ]
    },
    {
      "cell_type": "markdown",
      "metadata": {
        "id": "RU-blHZzzIln"
      },
      "source": [
        "## Problem 1\n",
        "Hello World Typos: \n",
        "\n",
        "    Open the hello_world.py file you just created (or place into the next cell and run). Make a typo somewhere in the line and run the program again. Can you make a typo that generates an error? Can you make sense of the error message? Can you make a typo that doesn’t generate an error? hy do you think it didn’t make an error?"
      ]
    },
    {
      "cell_type": "code",
      "execution_count": null,
      "metadata": {
        "id": "T3yR0yDwzIlo",
        "colab": {
          "base_uri": "https://localhost:8080/"
        },
        "outputId": "e68440bd-d0f8-4ec0-b7e6-00d3baf05c10"
      },
      "outputs": [
        {
          "output_type": "stream",
          "name": "stdout",
          "text": [
            "Hello Python World\n"
          ]
        }
      ],
      "source": [
        "Hello_Python_World=print(\"Hello Python World\")"
      ]
    },
    {
      "cell_type": "code",
      "source": [
        "# Making a typo that causes an error (below)\n",
        "#Ex. We put the word \"World!\" outside of the quotations\n",
        "print(\"Hello Python\" World!)\n",
        "\n",
        "#Above, Python wants every word or phrase to be inside quotations in the print function."
      ],
      "metadata": {
        "id": "hEbvb4waLtZv"
      },
      "execution_count": null,
      "outputs": []
    },
    {
      "cell_type": "code",
      "source": [
        "#Make type that does not generate an error\n",
        "print(\"Hello ython World!\")"
      ],
      "metadata": {
        "colab": {
          "base_uri": "https://localhost:8080/"
        },
        "id": "ZdbZ6r_ULIXP",
        "outputId": "2ea6f5f8-e6ee-4ac1-c209-75e491b3115c"
      },
      "execution_count": null,
      "outputs": [
        {
          "output_type": "stream",
          "name": "stdout",
          "text": [
            "Hello ython World!\n"
          ]
        }
      ]
    },
    {
      "cell_type": "markdown",
      "metadata": {
        "id": "n_mmnbeAzIlo"
      },
      "source": [
        "## Problem 2\n",
        "Infinite Skills: \n",
        "    \n",
        "        If you had infinite programming skills, what would you build?\n",
        "    You’re about to learn how to program. If you have an end goal in mind, you’ll have an\n",
        "    immediate use for your new skills; now is a great time to draft descriptions of what you\n",
        "    want to create. It’s a good habit to keep an “ideas” notebook that you can refer to\n",
        "    whenever you want to start a new project. Take a few minutes now to describe three\n",
        "    programs you want to create."
      ]
    },
    {
      "cell_type": "code",
      "execution_count": null,
      "metadata": {
        "id": "dL0WY2r5zIlp"
      },
      "outputs": [],
      "source": [
        "\n",
        "#The first program that I am going to create is a length function of each word. For example, the word \"goldfish\" will be translated into 8 letters. \n",
        "#I am going to utilize the length function (len) to help me count the # of letters of each word. \n",
        "\n",
        "#The second program that I am going to create is a combination function. THe combination function's sole purpose is to combine a first and last name \n",
        "#together. Ex.. \"Donald Trump\" I am going to apply the zip function and the \"for a.b in names\" syntax to stick the first name and last name together.\n",
        "\n",
        "#The third program that I am going to create is a duplication function that prints a word, phrase, or sentence as many times as you want it. I am \n",
        "#going to use \"for x in\" syntax and the range function. For example, if you set up the range 5 times, the word, \"Apple\" would be printed 5 times.\n"
      ]
    },
    {
      "cell_type": "markdown",
      "metadata": {
        "id": "FNTdy4xFzIlq"
      },
      "source": [
        "## Problem 3\n",
        "\n",
        "How are you running your code? Did you install Anaconda, Repl.it, Colab? Do you have past experience with any of these systems and have a preference? \n"
      ]
    },
    {
      "cell_type": "code",
      "execution_count": null,
      "metadata": {
        "id": "U0vCvS2kzIlq"
      },
      "outputs": [],
      "source": [
        "#I am running my code using one of the Python's IDE, whichi is called Python IDLE Version 3.10 and also the IDLE Pycharm. Personally, I like to use the IDLE \n",
        "#since it is simple, clear, and highlights the key components of your coding."
      ]
    },
    {
      "cell_type": "markdown",
      "metadata": {
        "id": "QwO3z6fxzIlr"
      },
      "source": [
        "## Problem 4 \n",
        "\n",
        "Write a separate program to accomplish each of these exercises. Save each program with\n",
        "a filename that follows standard Python conventions, using lowercase letters and\n",
        "underscores, such as simple_message.py and simple_messages.py. (You will need to use repl.it or the local terminal to test that your scripts work).\n",
        "\n",
        "    part1: Simple Message: Assign a message to a variable, and then print that message.\n",
        "    \n",
        "    part2: Simple Messages: Assign a message to a variable, and print that message. Then change the value of the variable to a new message, and print the new message."
      ]
    },
    {
      "cell_type": "code",
      "execution_count": null,
      "metadata": {
        "id": "fxZFLQYUzIlr",
        "colab": {
          "base_uri": "https://localhost:8080/",
          "height": 35
        },
        "outputId": "1ecc4cf9-2133-438e-98e2-d9a716413fb0"
      },
      "outputs": [
        {
          "output_type": "execute_result",
          "data": {
            "application/vnd.google.colaboratory.intrinsic+json": {
              "type": "string"
            },
            "text/plain": [
              "'PlayStation Four vs Xbox One'"
            ]
          },
          "metadata": {},
          "execution_count": 17
        }
      ],
      "source": [
        "Console_Wars=\"PlayStation Four vs Xbox One\"\n",
        "Console_Wars"
      ]
    },
    {
      "cell_type": "code",
      "source": [
        "Console_Wars2=\"PlayStation Five vs Xbox Series X\"\n",
        "Console_Wars2\n",
        "\n",
        "Console_Wars3=\"Sony vs Microsoft vs Nintendo\"\n",
        "Console_Wars3"
      ],
      "metadata": {
        "colab": {
          "base_uri": "https://localhost:8080/",
          "height": 35
        },
        "id": "VyTUoOAnK8zL",
        "outputId": "fceec863-960f-4d21-ca11-54bb3dda9434"
      },
      "execution_count": null,
      "outputs": [
        {
          "output_type": "execute_result",
          "data": {
            "application/vnd.google.colaboratory.intrinsic+json": {
              "type": "string"
            },
            "text/plain": [
              "'Sony vs Microsoft vs Nintendo'"
            ]
          },
          "metadata": {},
          "execution_count": 18
        }
      ]
    },
    {
      "cell_type": "markdown",
      "metadata": {
        "id": "nvjd3ptizIlr"
      },
      "source": [
        "## Problem 5\n",
        "    Find a quote from a famous person you admire. Print the quote and the name of its author. Your output should look something like the following, including the quotation marks:\n",
        "\n",
        "Albert Einstein once said, “A person who never made a mistake\n",
        "never tried anything new.”\n",
        "\n",
        "    Repeat the above, but this time, represent the famous person’s name using a variable called ***famous_person***. Then compose your message and represent it with a new variable called ***message***. Print your message."
      ]
    },
    {
      "cell_type": "code",
      "execution_count": null,
      "metadata": {
        "id": "9n0MMooYzIls",
        "colab": {
          "base_uri": "https://localhost:8080/",
          "height": 35
        },
        "outputId": "f0c98c4b-97c1-4d2b-d04c-086b3daf3f95"
      },
      "outputs": [
        {
          "output_type": "execute_result",
          "data": {
            "application/vnd.google.colaboratory.intrinsic+json": {
              "type": "string"
            },
            "text/plain": [
              "'You were born to multiply the gifts and talents that are inside you'"
            ]
          },
          "metadata": {},
          "execution_count": 19
        }
      ],
      "source": [
        "famous_person=\"You were born to multiply the gifts and talents that are inside you\"\n",
        "message=famous_person\n",
        "message"
      ]
    },
    {
      "cell_type": "markdown",
      "metadata": {
        "id": "KLTIfjJWzIls"
      },
      "source": [
        "## Problem 6\n",
        "\n",
        "    Write addition, subtraction, multiplication, and division operations that each result in the number 8. Be sure to enclose your operations in print() calls to see the results. You should create four lines that look like this:\n",
        "\n",
        "```\n",
        "print(5+3)\n",
        "```\n",
        "\n",
        "Your output should simply be four lines with the number 8 appearing once on eachline.\n"
      ]
    },
    {
      "cell_type": "code",
      "execution_count": null,
      "metadata": {
        "id": "HLqSGc9YzIlt",
        "colab": {
          "base_uri": "https://localhost:8080/"
        },
        "outputId": "985b5758-2a4b-449d-b0ab-45bd60e79eee"
      },
      "outputs": [
        {
          "output_type": "stream",
          "name": "stdout",
          "text": [
            "8\n",
            "8\n",
            "8.0\n",
            "8\n"
          ]
        }
      ],
      "source": [
        "print(4+4)\n",
        "print(8*1)\n",
        "print(16/2)\n",
        "print(12-4)"
      ]
    }
  ],
  "metadata": {
    "kernelspec": {
      "display_name": "Python 3",
      "language": "python",
      "name": "python3"
    },
    "language_info": {
      "codemirror_mode": {
        "name": "ipython",
        "version": 3
      },
      "file_extension": ".py",
      "mimetype": "text/x-python",
      "name": "python",
      "nbconvert_exporter": "python",
      "pygments_lexer": "ipython3",
      "version": "3.7.6"
    },
    "colab": {
      "name": "Alan Fu: Assignment 1 - CMPSC131.ipynb",
      "provenance": [],
      "include_colab_link": true
    }
  },
  "nbformat": 4,
  "nbformat_minor": 0
}